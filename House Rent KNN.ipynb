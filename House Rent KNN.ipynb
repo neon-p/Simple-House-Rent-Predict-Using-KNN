{
 "cells": [
  {
   "cell_type": "code",
   "execution_count": null,
   "metadata": {},
   "outputs": [],
   "source": [
    "import numpy as np\n",
    "from sklearn.model_selection import train_test_split\n",
    "from sklearn import datasets\n",
    "import pandas as pd"
   ]
  },
  {
   "cell_type": "code",
   "execution_count": 4,
   "metadata": {},
   "outputs": [
    {
     "data": {
      "text/html": [
       "<div>\n",
       "<style scoped>\n",
       "    .dataframe tbody tr th:only-of-type {\n",
       "        vertical-align: middle;\n",
       "    }\n",
       "\n",
       "    .dataframe tbody tr th {\n",
       "        vertical-align: top;\n",
       "    }\n",
       "\n",
       "    .dataframe thead th {\n",
       "        text-align: right;\n",
       "    }\n",
       "</style>\n",
       "<table border=\"1\" class=\"dataframe\">\n",
       "  <thead>\n",
       "    <tr style=\"text-align: right;\">\n",
       "      <th></th>\n",
       "      <th>Area</th>\n",
       "      <th>Bed_room</th>\n",
       "      <th>Bathroom</th>\n",
       "      <th>Rent</th>\n",
       "    </tr>\n",
       "  </thead>\n",
       "  <tbody>\n",
       "    <tr>\n",
       "      <th>0</th>\n",
       "      <td>Modina Market</td>\n",
       "      <td>3</td>\n",
       "      <td>2</td>\n",
       "      <td>12000</td>\n",
       "    </tr>\n",
       "    <tr>\n",
       "      <th>1</th>\n",
       "      <td>Modina Market</td>\n",
       "      <td>3</td>\n",
       "      <td>2</td>\n",
       "      <td>12000</td>\n",
       "    </tr>\n",
       "    <tr>\n",
       "      <th>2</th>\n",
       "      <td>Modina Market</td>\n",
       "      <td>3</td>\n",
       "      <td>2</td>\n",
       "      <td>12000</td>\n",
       "    </tr>\n",
       "    <tr>\n",
       "      <th>3</th>\n",
       "      <td>Modina Market</td>\n",
       "      <td>3</td>\n",
       "      <td>2</td>\n",
       "      <td>12500</td>\n",
       "    </tr>\n",
       "    <tr>\n",
       "      <th>4</th>\n",
       "      <td>Modina Market</td>\n",
       "      <td>3</td>\n",
       "      <td>2</td>\n",
       "      <td>12500</td>\n",
       "    </tr>\n",
       "  </tbody>\n",
       "</table>\n",
       "</div>"
      ],
      "text/plain": [
       "            Area  Bed_room  Bathroom   Rent\n",
       "0  Modina Market         3         2  12000\n",
       "1  Modina Market         3         2  12000\n",
       "2  Modina Market         3         2  12000\n",
       "3  Modina Market         3         2  12500\n",
       "4  Modina Market         3         2  12500"
      ]
     },
     "execution_count": 4,
     "metadata": {},
     "output_type": "execute_result"
    }
   ],
   "source": [
    "data=pd.read_csv('data1.csv', delimiter=',',names = ['Area','Bed_room','Bathroom','Rent'])\n",
    "data.head()"
   ]
  },
  {
   "cell_type": "code",
   "execution_count": 109,
   "metadata": {},
   "outputs": [],
   "source": [
    "X=zip(data['Bed_room'],data['Bathroom'])\n",
    "y=data[\"Rent\"]"
   ]
  },
  {
   "cell_type": "code",
   "execution_count": 110,
   "metadata": {},
   "outputs": [],
   "source": [
    "x=[]\n",
    "for i in X:\n",
    "    x.append(i)"
   ]
  },
  {
   "cell_type": "code",
   "execution_count": 111,
   "metadata": {},
   "outputs": [],
   "source": [
    "x=np.array(x)\n",
    "y=np.array(y)"
   ]
  },
  {
   "cell_type": "code",
   "execution_count": 112,
   "metadata": {},
   "outputs": [],
   "source": [
    "x_train,x_test,y_train,y_test=train_test_split(x,y,test_size=0.2)"
   ]
  },
  {
   "cell_type": "code",
   "execution_count": 114,
   "metadata": {},
   "outputs": [],
   "source": [
    "def euclidean(x, x2):\n",
    "    sum=0\n",
    "    for ix,ix2 in zip(x,x2):\n",
    "        sum+=(ix-ix2)**2\n",
    "    return np.sqrt(sum)"
   ]
  },
  {
   "cell_type": "code",
   "execution_count": 161,
   "metadata": {},
   "outputs": [],
   "source": [
    "def predict(x_train,y_train,xt,k):\n",
    "    dist={}\n",
    "    for j, x in enumerate(x_train):\n",
    "        ed=euclidean(x,xt)\n",
    "        dist[j]=ed\n",
    "\n",
    "    sorted_d = sorted(dist.items(), key=lambda kv: kv[1])\n",
    "    \n",
    "    neighbors=[]\n",
    "    for i in range(k):\n",
    "        neighbors.append(sorted_d[i][0])\n",
    "\n",
    "    classes=[ y_train[i] for i in neighbors]\n",
    "\n",
    "    max_values=max(classes)\n",
    "    return max_values"
   ]
  },
  {
   "cell_type": "code",
   "execution_count": 162,
   "metadata": {},
   "outputs": [],
   "source": [
    "def accuracy(predict,y_test):\n",
    "    a=0\n",
    "    for i in range(len(y_test)):\n",
    "        if predict[i]==y_test[i]:\n",
    "            a+=1\n",
    "    return (a/len(y_test))*100"
   ]
  },
  {
   "cell_type": "code",
   "execution_count": 163,
   "metadata": {},
   "outputs": [],
   "source": [
    "def KNN(x_train, y_train,  x_test, k):\n",
    "    ps=[predict(x_train,y_train, xt, k) for xt in x_test] \n",
    "    return np.array(ps)"
   ]
  },
  {
   "cell_type": "code",
   "execution_count": 169,
   "metadata": {},
   "outputs": [
    {
     "name": "stdout",
     "output_type": "stream",
     "text": [
      "Accuracy of this model is-> 10.344827586206897 %\n"
     ]
    }
   ],
   "source": [
    "ps=KNN(x_train,y_train, x_test,3)\n",
    "print(\"Accuracy of this model is->\",accuracy(ps,y_test),\"%\")"
   ]
  },
  {
   "cell_type": "code",
   "execution_count": 178,
   "metadata": {},
   "outputs": [
    {
     "name": "stdout",
     "output_type": "stream",
     "text": [
      "Prediction of this Data is-> 31000\n"
     ]
    }
   ],
   "source": [
    "data=[5,10]\n",
    "print(\"Prediction of this Data is->\",predict(x_train,y_train,data,3))"
   ]
  },
  {
   "cell_type": "code",
   "execution_count": null,
   "metadata": {},
   "outputs": [],
   "source": []
  }
 ],
 "metadata": {
  "kernelspec": {
   "display_name": "Python 3",
   "language": "python",
   "name": "python3"
  },
  "language_info": {
   "codemirror_mode": {
    "name": "ipython",
    "version": 3
   },
   "file_extension": ".py",
   "mimetype": "text/x-python",
   "name": "python",
   "nbconvert_exporter": "python",
   "pygments_lexer": "ipython3",
   "version": "3.7.1"
  }
 },
 "nbformat": 4,
 "nbformat_minor": 2
}
